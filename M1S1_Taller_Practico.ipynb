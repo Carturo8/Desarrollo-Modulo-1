{
 "cells": [
  {
   "cell_type": "markdown",
   "id": "bab29f9b",
   "metadata": {},
   "source": [
    "### Taller Práctico (Print, Input, Tipos de Datos, Operadores — Sin Condicionales)"
   ]
  },
  {
   "cell_type": "markdown",
   "id": "9a64a5f6",
   "metadata": {},
   "source": [
    "1. Pide al usuario su nombre y edad, y muestra un mensaje que diga: \"Hola [nombre], tienes [edad] años."
   ]
  },
  {
   "cell_type": "code",
   "execution_count": 17,
   "id": "75b35ff4",
   "metadata": {},
   "outputs": [
    {
     "name": "stdout",
     "output_type": "stream",
     "text": [
      "Hola Carlos, tienes 25 años.\n"
     ]
    }
   ],
   "source": [
    "def Nombre_Edad():\n",
    "    nombre = input(\"¿Cuál es tu nombre? \")\n",
    "    edad = int(input(\"¿Cuántos años tienes? \"))\n",
    "    print(f\"Hola {nombre}, tienes {edad} años.\")\n",
    "\n",
    "Nombre_Edad()"
   ]
  },
  {
   "cell_type": "markdown",
   "id": "48b74cf7",
   "metadata": {},
   "source": [
    "2. Pide dos números enteros y muestra la suma de ambos."
   ]
  },
  {
   "cell_type": "code",
   "execution_count": 18,
   "id": "a2bb504d",
   "metadata": {},
   "outputs": [
    {
     "name": "stdout",
     "output_type": "stream",
     "text": [
      "La suma de 10 y 5 es: 15\n"
     ]
    }
   ],
   "source": [
    "def Suma_Dos_Numeros_Enteros():\n",
    "    num1 = int(input(\"Ingresa el primer número entero: \"))\n",
    "    num2 = int(input(\"Ingresa el segundo número entero: \"))\n",
    "    suma = num1 + num2\n",
    "    print(f\"La suma de {num1} y {num2} es: {suma}\")\n",
    "\n",
    "Suma_Dos_Numeros_Enteros()"
   ]
  },
  {
   "cell_type": "markdown",
   "id": "88c77210",
   "metadata": {},
   "source": [
    "3. Pide dos números decimales (float) y muestra su multiplicación."
   ]
  },
  {
   "cell_type": "code",
   "execution_count": 19,
   "id": "49b2d37f",
   "metadata": {},
   "outputs": [
    {
     "name": "stdout",
     "output_type": "stream",
     "text": [
      "La multiplicación de 3.5 y 7.5 es: 26.25\n"
     ]
    }
   ],
   "source": [
    "def Multiplicacion_Dos_Numeros_Decimales():\n",
    "    num1 = float(input(\"Ingresa el primer número decimal: \"))\n",
    "    num2 = float(input(\"Ingresa el segundo número decimal: \"))\n",
    "    multiplicacion = num1 * num2\n",
    "    print(f\"La multiplicación de {num1} y {num2} es: {multiplicacion}\")\n",
    "    \n",
    "Multiplicacion_Dos_Numeros_Decimales()"
   ]
  },
  {
   "cell_type": "markdown",
   "id": "0e4514c6",
   "metadata": {},
   "source": [
    "4. Pide un número entero y muestra el doble y el triple de ese número, separados por coma."
   ]
  },
  {
   "cell_type": "code",
   "execution_count": 20,
   "id": "11279789",
   "metadata": {},
   "outputs": [
    {
     "name": "stdout",
     "output_type": "stream",
     "text": [
      "El doble y el triple de 5 es: 10 y 15 respectivamente.\n"
     ]
    }
   ],
   "source": [
    "def Doble_Triple_Numero_Entero():\n",
    "    num = int(input(\"Ingresa un número entero: \"))\n",
    "    doble = num * 2\n",
    "    triple = num * 3\n",
    "    print(f\"El doble y el triple de {num} es: {doble} y {triple} respectivamente.\")\n",
    "    \n",
    "Doble_Triple_Numero_Entero()"
   ]
  },
  {
   "cell_type": "markdown",
   "id": "9578173a",
   "metadata": {},
   "source": [
    "5. Pide al usuario una palabra y un número entero. Muestra la palabra repetida ese número de veces."
   ]
  },
  {
   "cell_type": "code",
   "execution_count": 21,
   "id": "edc763da",
   "metadata": {},
   "outputs": [
    {
     "name": "stdout",
     "output_type": "stream",
     "text": [
      "La palabra Hola repetida 5 veces es: Hola Hola Hola Hola Hola \n"
     ]
    }
   ],
   "source": [
    "def Repetir_Palabra():\n",
    "    palabra = str(input(\"Ingresa una palabra: \")).strip()\n",
    "    palabra_esp = palabra + \" \"\n",
    "    num = int(input(\"Ingresa un número entero: \"))\n",
    "    print(f\"La palabra {palabra} repetida {num} veces es: {palabra_esp * num}\")\n",
    "    \n",
    "Repetir_Palabra()"
   ]
  },
  {
   "cell_type": "markdown",
   "id": "2a031bba",
   "metadata": {},
   "source": [
    "6. Pide al usuario dos números y muestra el resultado de dividir el primero entre el segundo."
   ]
  },
  {
   "cell_type": "code",
   "execution_count": 22,
   "id": "93234f7c",
   "metadata": {},
   "outputs": [
    {
     "name": "stdout",
     "output_type": "stream",
     "text": [
      "La división de 5.0 entre 10.0 es: 0.5\n"
     ]
    }
   ],
   "source": [
    "def Division_Dos_Numeros():\n",
    "    num1 = float(input(\"Ingresa el primer número: \"))\n",
    "    num2 = float(input(\"Ingresa el segundo número: \"))\n",
    "    division = num1 / num2\n",
    "    print(f\"La división de {num1} entre {num2} es: {division}\")\n",
    "    \n",
    "Division_Dos_Numeros()"
   ]
  },
  {
   "cell_type": "markdown",
   "id": "bead6960",
   "metadata": {},
   "source": [
    "7. Pide al usuario su nombre y muestra cuántas letras tiene su nombre."
   ]
  },
  {
   "cell_type": "code",
   "execution_count": 23,
   "id": "6dee49bc",
   "metadata": {},
   "outputs": [
    {
     "name": "stdout",
     "output_type": "stream",
     "text": [
      "El nombre Carlos contiene 6 letras.\n"
     ]
    }
   ],
   "source": [
    "def Letras_Nombre():\n",
    "    nombre = input(\"¿Cuál es tu nombre? \")\n",
    "    letras = len(nombre)\n",
    "    print(f\"El nombre {nombre} contiene {letras} letras.\")\n",
    "\n",
    "Letras_Nombre()"
   ]
  },
  {
   "cell_type": "markdown",
   "id": "a46ce1dc",
   "metadata": {},
   "source": [
    "8. Pide al usuario dos números y muestra la división entera (//) y el módulo (%) entre ellos."
   ]
  },
  {
   "cell_type": "code",
   "execution_count": 24,
   "id": "58f322f1",
   "metadata": {},
   "outputs": [
    {
     "name": "stdout",
     "output_type": "stream",
     "text": [
      "La división entera de 9.3 entre 3.0 es: 3.0 y su módulo es: 0.3000000000000007\n"
     ]
    }
   ],
   "source": [
    "def Division_Entera_Modulo_Dos_Numeros():\n",
    "    num1 = float(input(\"Ingresa el primer número: \"))\n",
    "    num2 = float(input(\"Ingresa el segundo número: \"))\n",
    "    division_entera = num1 // num2\n",
    "    modulo = num1 % num2\n",
    "    print(f\"La división entera de {num1} entre {num2} es: {division_entera} y su módulo es: {modulo}\")\n",
    "    \n",
    "Division_Entera_Modulo_Dos_Numeros()"
   ]
  },
  {
   "cell_type": "markdown",
   "id": "6d9eeb38",
   "metadata": {},
   "source": [
    "9. Pide al usuario dos números y muestra la suma, resta, multiplicación y división (separadas por coma)."
   ]
  },
  {
   "cell_type": "code",
   "execution_count": 25,
   "id": "6a946208",
   "metadata": {},
   "outputs": [
    {
     "name": "stdout",
     "output_type": "stream",
     "text": [
      "La suma, resta, multiplicación y división de 10.0 y 5.0 es: 15.0, 5.0, 50.0, 2.0 respectivamente.\n"
     ]
    }
   ],
   "source": [
    "def Suma_Resta_Multiplicacion_Division_Dos_Numeros():\n",
    "    num1 = float(input(\"Ingresa el primer número: \"))\n",
    "    num2 = float(input(\"Ingresa el segundo número: \"))\n",
    "    suma = num1 + num2\n",
    "    resta = num1 - num2\n",
    "    multiplicacion = num1 * num2    \n",
    "    division = round(num1 / num2, 2)\n",
    "    print(f\"La suma, resta, multiplicación y división de {num1} y {num2} es: {suma}, {resta}, {multiplicacion}, {division} respectivamente.\")\n",
    "    \n",
    "Suma_Resta_Multiplicacion_Division_Dos_Numeros()"
   ]
  },
  {
   "cell_type": "markdown",
   "id": "c1c32471",
   "metadata": {},
   "source": [
    "10. Pide un número entero y muestra el número elevado a la 2 (al cuadrado) y a la 3 (al cubo), usando f-strings."
   ]
  },
  {
   "cell_type": "code",
   "execution_count": 26,
   "id": "de38dbe3",
   "metadata": {},
   "outputs": [
    {
     "name": "stdout",
     "output_type": "stream",
     "text": [
      "El cuadrado y el cubo de 5 es: 25 y 125 respectivamente.\n"
     ]
    }
   ],
   "source": [
    "def Cuadrado_Cubo_Numero_Entero():\n",
    "    num1 = int(input(\"Ingresa un número entero: \"))\n",
    "    cuadrado = num1 ** 2\n",
    "    cubo = num1 ** 3\n",
    "    print(f\"El cuadrado y el cubo de {num1} es: {cuadrado} y {cubo} respectivamente.\")\n",
    "    \n",
    "Cuadrado_Cubo_Numero_Entero()"
   ]
  },
  {
   "cell_type": "markdown",
   "id": "2a3213e1",
   "metadata": {},
   "source": [
    "11. Pide al usuario un número decimal y muestra solo la parte entera de ese número."
   ]
  },
  {
   "cell_type": "code",
   "execution_count": 27,
   "id": "80ec159a",
   "metadata": {},
   "outputs": [
    {
     "name": "stdout",
     "output_type": "stream",
     "text": [
      "La parte entera de 7.5 es: 7\n"
     ]
    }
   ],
   "source": [
    "def Mostrar_Parte_Entera_De_Numero_Decimal():\n",
    "    num = float(input(\"Ingresa un número decimal: \"))\n",
    "    numero_entero = int(num)\n",
    "    print(f\"La parte entera de {num} es: {numero_entero}\")\n",
    "    \n",
    "Mostrar_Parte_Entera_De_Numero_Decimal()"
   ]
  },
  {
   "cell_type": "markdown",
   "id": "ff417dc4",
   "metadata": {},
   "source": [
    "12. Pide al usuario su edad y muestra un mensaje que diga si su edad es mayor que 18 (usar operadores de comparación, sin condicionales)"
   ]
  },
  {
   "cell_type": "code",
   "execution_count": 28,
   "id": "0377c25c",
   "metadata": {},
   "outputs": [
    {
     "name": "stdout",
     "output_type": "stream",
     "text": [
      "La edad del usuario es mayor que 18: True.\n"
     ]
    }
   ],
   "source": [
    "def Mayor_de_Edad():\n",
    "    edad = int(input(\"¿Cuántos años tienes? \"))\n",
    "    mayor_de_edad = edad >= 18\n",
    "    print(f\"La edad del usuario es mayor que 18: {mayor_de_edad}.\")\n",
    "\n",
    "Mayor_de_Edad()"
   ]
  },
  {
   "cell_type": "markdown",
   "id": "fc78c33f",
   "metadata": {},
   "source": [
    "13. Pide al usuario dos números enteros y muestra si son iguales (usar operadores de comparación, sin condicionales)."
   ]
  },
  {
   "cell_type": "code",
   "execution_count": 29,
   "id": "d104b0a3",
   "metadata": {},
   "outputs": [
    {
     "name": "stdout",
     "output_type": "stream",
     "text": [
      "Los números 5 y 10 son iguales: False.\n"
     ]
    }
   ],
   "source": [
    "def Igualdad_Dos_Numeros_Enteros():\n",
    "    num1 = int(input(\"Ingresa el primer número entero: \"))\n",
    "    num2 = int(input(\"Ingresa el segundo número entero: \"))\n",
    "    igualdad = num1 == num2\n",
    "    print(f\"Los números {num1} y {num2} son iguales: {igualdad}.\")\n",
    "    \n",
    "Igualdad_Dos_Numeros_Enteros()"
   ]
  },
  {
   "cell_type": "markdown",
   "id": "366e4885",
   "metadata": {},
   "source": [
    "14. Pide dos números y muestra si el primero es mayor que el segundo (usar operador de comparación)."
   ]
  },
  {
   "cell_type": "code",
   "execution_count": 30,
   "id": "71e484de",
   "metadata": {},
   "outputs": [
    {
     "name": "stdout",
     "output_type": "stream",
     "text": [
      "El número 5.0 es mayor que 10.0: False.\n"
     ]
    }
   ],
   "source": [
    "def Mayor_de_Dos_Numeros():\n",
    "    num1 = float(input(\"Ingresa el primer número: \"))\n",
    "    num2 = float(input(\"Ingresa el segundo número: \"))\n",
    "    numero_mayor = num1 > num2\n",
    "    print(f\"El número {num1} es mayor que {num2}: {numero_mayor}.\")\n",
    "    \n",
    "Mayor_de_Dos_Numeros()"
   ]
  },
  {
   "cell_type": "markdown",
   "id": "41674a42",
   "metadata": {},
   "source": [
    "15. Pide dos números y muestra si el primero es menor o igual que el segundo (usar operador de comparación)."
   ]
  },
  {
   "cell_type": "code",
   "execution_count": 31,
   "id": "29a05344",
   "metadata": {},
   "outputs": [
    {
     "name": "stdout",
     "output_type": "stream",
     "text": [
      "El número 5.0 es menor o igual que 10.0: True.\n"
     ]
    }
   ],
   "source": [
    "def Menor_Igual_de_Dos_Numeros():\n",
    "    num1 = float(input(\"Ingresa el primer número: \"))\n",
    "    num2 = float(input(\"Ingresa el segundo número: \"))\n",
    "    numero_menor_igual = num1 <= num2\n",
    "    print(f\"El número {num1} es menor o igual que {num2}: {numero_menor_igual}.\")\n",
    "    \n",
    "Menor_Igual_de_Dos_Numeros()"
   ]
  },
  {
   "cell_type": "markdown",
   "id": "33b9c82f",
   "metadata": {},
   "source": [
    "16. Pide al usuario dos números y muestra si ambos son mayores que 10 (usar operador lógico and)."
   ]
  },
  {
   "cell_type": "code",
   "execution_count": 46,
   "id": "d738a1f7",
   "metadata": {},
   "outputs": [
    {
     "name": "stdout",
     "output_type": "stream",
     "text": [
      "Los números 11.0 y 11.0 son mayores a diez: True.\n"
     ]
    }
   ],
   "source": [
    "def Dos_Numeros_Mayores_a_Diez():\n",
    "    num1 = float(input(\"Ingresa el primer número: \"))\n",
    "    num2 = float(input(\"Ingresa el segundo número: \"))\n",
    "    mayores_a_diez = num1 > 10 and num2 > 10\n",
    "    print(f\"Los números {num1} y {num2} son mayores a diez: {mayores_a_diez}.\")\n",
    "    \n",
    "Dos_Numeros_Mayores_a_Diez()"
   ]
  },
  {
   "cell_type": "markdown",
   "id": "7f949c1e",
   "metadata": {},
   "source": [
    "17. Pide al usuario dos números y muestra si al menos uno es mayor que 10 (usar operador lógico or)."
   ]
  },
  {
   "cell_type": "code",
   "execution_count": 48,
   "id": "9ff6cb0b",
   "metadata": {},
   "outputs": [
    {
     "name": "stdout",
     "output_type": "stream",
     "text": [
      "Alguno de los números 11.0 o 5.0 son mayores a diez: True.\n"
     ]
    }
   ],
   "source": [
    "def Numero_Mayor_a_Diez():\n",
    "    num1 = float(input(\"Ingresa el primer número: \"))\n",
    "    num2 = float(input(\"Ingresa el segundo número: \"))\n",
    "    mayores_a_diez = num1 > 10 or num2 > 10\n",
    "    print(f\"Alguno de los números {num1} o {num2} son mayores a diez: {mayores_a_diez}.\")\n",
    "    \n",
    "Numero_Mayor_a_Diez()"
   ]
  },
  {
   "cell_type": "markdown",
   "id": "c7b6521f",
   "metadata": {},
   "source": [
    "18. Pide al usuario dos números y muestra si el primero NO es igual al segundo (usar operador lógico not combinado con comparación)."
   ]
  },
  {
   "cell_type": "code",
   "execution_count": 34,
   "id": "54e9d6ce",
   "metadata": {},
   "outputs": [
    {
     "name": "stdout",
     "output_type": "stream",
     "text": [
      "El número 5.0 es diferente de 10.0: True.\n"
     ]
    }
   ],
   "source": [
    "def No_Igualdad_Dos_Numeros():\n",
    "    num1 = float(input(\"Ingresa el primer número: \"))\n",
    "    num2 = float(input(\"Ingresa el segundo número: \"))\n",
    "    no_igualdad = num1 != num2\n",
    "    print(f\"El número {num1} es diferente de {num2}: {no_igualdad}.\")\n",
    "    \n",
    "No_Igualdad_Dos_Numeros()"
   ]
  },
  {
   "cell_type": "markdown",
   "id": "046e9f13",
   "metadata": {},
   "source": [
    "19. Pide al usuario tres números, calcula el promedio y muestra el resultado."
   ]
  },
  {
   "cell_type": "code",
   "execution_count": 35,
   "id": "579d6cd6",
   "metadata": {},
   "outputs": [
    {
     "name": "stdout",
     "output_type": "stream",
     "text": [
      "El promedio de (5.0, 3.0, 1.0) es: 3.0.\n"
     ]
    }
   ],
   "source": [
    "def Promedio_Tres_Numeros():\n",
    "    num1 = float(input(\"Ingresa el primer número: \"))\n",
    "    num2 = float(input(\"Ingresa el segundo número: \"))\n",
    "    num3 = float(input(\"Ingresa el tercer número: \"))\n",
    "    promedio = (num1 + num2 + num3) / 3\n",
    "    print(f\"El promedio de {num1, num2, num3} es: {promedio}.\")\n",
    "    \n",
    "Promedio_Tres_Numeros()"
   ]
  },
  {
   "cell_type": "markdown",
   "id": "e2dbdf42",
   "metadata": {},
   "source": [
    "20. Pide al usuario un número entero y muestra si el número es divisible entre 5 (usar operador de módulo % y comparación)"
   ]
  },
  {
   "cell_type": "code",
   "execution_count": 37,
   "id": "3d0925f5",
   "metadata": {},
   "outputs": [
    {
     "name": "stdout",
     "output_type": "stream",
     "text": [
      "El número 25 es divisible entre 5: True\n"
     ]
    }
   ],
   "source": [
    "def Division_Entera_Modulo_Dos_Numeros():\n",
    "    num1 = int(input(\"Ingresa un número entero: \"))\n",
    "    divisible_entre_cinco = (num1 % 5) == 0\n",
    "    print(f\"El número {num1} es divisible entre 5: {divisible_entre_cinco}\")\n",
    "    \n",
    "Division_Entera_Modulo_Dos_Numeros()"
   ]
  }
 ],
 "metadata": {
  "kernelspec": {
   "display_name": ".venv",
   "language": "python",
   "name": "python3"
  },
  "language_info": {
   "codemirror_mode": {
    "name": "ipython",
    "version": 3
   },
   "file_extension": ".py",
   "mimetype": "text/x-python",
   "name": "python",
   "nbconvert_exporter": "python",
   "pygments_lexer": "ipython3",
   "version": "3.12.3"
  }
 },
 "nbformat": 4,
 "nbformat_minor": 5
}
