{
 "cells": [
  {
   "cell_type": "markdown",
   "id": "7b79bbe1",
   "metadata": {},
   "source": [
    "1. Números mayores o iguales a 1000.\n",
    "\n",
    "    Escribir un programa que lea n números enteros y determine cuántos de ellos son mayores o iguales a 1000."
   ]
  },
  {
   "cell_type": "code",
   "execution_count": 1,
   "id": "c76d1acf",
   "metadata": {},
   "outputs": [
    {
     "name": "stdout",
     "output_type": "stream",
     "text": [
      "Los números mayores o iguales a 1000 son: 3 --> [1000, 50000, 20000]\n"
     ]
    }
   ],
   "source": [
    "numeros:str = input(\"Ingrese una lista de números enteros separada por comas: \")\n",
    "numeros:str = numeros.split(\",\")\n",
    "lista_numeros:list[int] = [int(x) for x in numeros]\n",
    "lista_numeros_mayores:list[int] = []\n",
    "contador:int = 0\n",
    "\n",
    "for numero in lista_numeros:\n",
    "    if numero >= 1000:\n",
    "        lista_numeros_mayores.append(numero)\n",
    "        contador += 1\n",
    "\n",
    "print(f\"Los números mayores o iguales a 1000 son: {contador} --> {lista_numeros_mayores}\")"
   ]
  },
  {
   "cell_type": "markdown",
   "id": "63406279",
   "metadata": {},
   "source": [
    "2. Cálculo de áreas de triángulos.\n",
    "\n",
    "    Confeccionar un programa que lea n pares de datos (base y altura) correspondientes a triángulos. Debe mostrar:\n",
    "    - Base, altura y superficie de cada triángulo.\n",
    "    - Cantidad de triángulos con superficie mayor a 12."
   ]
  },
  {
   "cell_type": "code",
   "execution_count": 3,
   "id": "61b046c2",
   "metadata": {},
   "outputs": [
    {
     "name": "stdout",
     "output_type": "stream",
     "text": [
      "La base, altura y superficie de los triángulos son: [[50.0, 30.5, 762.5], [200.0, 50.5, 5050.0]]\n",
      "\n",
      "Cantidad de triángulos con superficie mayor a 12: 2\n"
     ]
    }
   ],
   "source": [
    "base_altura:str = input(\"Ingrese los pares de datos (base, altura) separados por comas: \")  # ejemplo: 30,40,20.5,30.5,20.5\n",
    "lista_base_altura:list = base_altura.split(\",\")\n",
    "lista_base_altura = [round(float(x.strip()), 2) for x in lista_base_altura]  # convertimos a float\n",
    "datos_triangulo = []\n",
    "contador_superficie_mayor_12:float = 0\n",
    "\n",
    "for i in range(0, len(lista_base_altura), 2):  # saltamos de 2 en 2\n",
    "    if i + 1 < len(lista_base_altura):  # verificamos que exista el segundo elemento del par\n",
    "        superficie = round((lista_base_altura[i] * lista_base_altura[i + 1]) / 2, 2)\n",
    "        base_altura_superficie = [lista_base_altura[i], lista_base_altura[i + 1], superficie]\n",
    "        datos_triangulo.append(base_altura_superficie)\n",
    "        if superficie > 12:\n",
    "            contador_superficie_mayor_12 += 1\n",
    "\n",
    "print(f\"La base, altura y superficie de los triángulos son: {datos_triangulo}\")\n",
    "print(f\"\\nCantidad de triángulos con superficie mayor a 12: {contador_superficie_mayor_12}\")"
   ]
  },
  {
   "cell_type": "markdown",
   "id": "8502fd4a",
   "metadata": {},
   "source": [
    "3. Puntos en el plano cartesiano.\n",
    "\n",
    "    Escribir un programa que pida ingresar coordenadas (x, y) y determine cuántos puntos se encuentran en cada cuadrante (I, II, III, IV). \n",
    "    \n",
    "    Nota: Al inicio, el programa debe solicitar la cantidad de puntos a procesar."
   ]
  },
  {
   "cell_type": "code",
   "execution_count": 4,
   "id": "17734b3a",
   "metadata": {},
   "outputs": [
    {
     "name": "stdout",
     "output_type": "stream",
     "text": [
      "El número de puntos en el cuadrante I es: 1\n",
      "El número de puntos en el cuadrante II es: 1\n",
      "El número de puntos en el cuadrante III es: 1\n",
      "El número de puntos en el cuadrante IV es: 1\n"
     ]
    }
   ],
   "source": [
    "coordenadas:str = input(\"Ingrese las coordenadas (x, y) separadas por comas: \")\n",
    "coordenadas:str = coordenadas.split(\",\")\n",
    "contador_cuadrante_1:int = 0\n",
    "contador_cuadrante_2:int = 0\n",
    "contador_cuadrante_3:int = 0\n",
    "contador_cuadrante_4:int = 0\n",
    "\n",
    "for i in range(0, len(coordenadas), 2):\n",
    "    if i + 1 < len(coordenadas):  # verificamos que exista el segundo elemento del par\n",
    "        x = float(coordenadas[i])\n",
    "        y = float(coordenadas[i + 1])\n",
    "        if x > 0 and y > 0:\n",
    "            contador_cuadrante_1 += 1\n",
    "        elif x < 0 and y > 0:\n",
    "            contador_cuadrante_2 += 1\n",
    "        elif x < 0 and y < 0:\n",
    "            contador_cuadrante_3 += 1\n",
    "        else:\n",
    "            contador_cuadrante_4 += 1\n",
    "\n",
    "print(f\"\"\"El número de puntos en el cuadrante I es: {contador_cuadrante_1}\n",
    "El número de puntos en el cuadrante II es: {contador_cuadrante_2}\n",
    "El número de puntos en el cuadrante III es: {contador_cuadrante_3}\n",
    "El número de puntos en el cuadrante IV es: {contador_cuadrante_4}\"\"\")"
   ]
  }
 ],
 "metadata": {
  "kernelspec": {
   "display_name": ".venv",
   "language": "python",
   "name": "python3"
  },
  "language_info": {
   "codemirror_mode": {
    "name": "ipython",
    "version": 3
   },
   "file_extension": ".py",
   "mimetype": "text/x-python",
   "name": "python",
   "nbconvert_exporter": "python",
   "pygments_lexer": "ipython3",
   "version": "3.12.3"
  }
 },
 "nbformat": 4,
 "nbformat_minor": 5
}
