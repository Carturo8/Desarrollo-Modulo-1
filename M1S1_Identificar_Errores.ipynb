{
 "cells": [
  {
   "cell_type": "markdown",
   "id": "2925b632",
   "metadata": {},
   "source": [
    "**Programa 1**: Un sistema de seguridad para el hogar necesita monitorear posibles intrusiones bajo estas condiciones:\n",
    "\n",
    "- Se detecta movimiento en el interior de la propiedad (activado por sensores).\n",
    "- Además, debe cumplirse al menos una de estas situaciones:\n",
    "    - Alguna ventana está abierta o\n",
    "    - Es horario nocturno (entre las 10 PM y 6 AM)\n",
    "\n",
    "Cuando ambas condiciones principales se cumplen, se activa la alarma; en cualquier otro caso, el sistema permanece en estado seguro."
   ]
  },
  {
   "cell_type": "code",
   "execution_count": 1,
   "id": "8cd4f8a0",
   "metadata": {},
   "outputs": [
    {
     "name": "stdout",
     "output_type": "stream",
     "text": [
      "¡ALARMA! 🚨\n"
     ]
    }
   ],
   "source": [
    "# Variables\n",
    "movimiento = True\n",
    "ventana_abierta = True\n",
    "hora_noche = False\n",
    "\n",
    "# Operadores lógicos\n",
    "if movimiento == True and (ventana_abierta == True or hora_noche == True):\n",
    "    print(\"¡ALARMA! 🚨\")\n",
    "else:\n",
    "    print(\"Todo seguro 🔒\")"
   ]
  },
  {
   "cell_type": "markdown",
   "id": "f2b70330",
   "metadata": {},
   "source": [
    "**Programa 2**: Aprobación de préstamo\n",
    "\n",
    "Un banco evalúa solicitudes de préstamo bajo dos criterios principales:\n",
    "\n",
    "(1) el solicitante debe tener un ingreso mensual mayor a $2000 o una puntuación de crédito de al menos 650, y\n",
    "\n",
    "(2) no debe tener deudas pendientes. \n",
    "\n",
    "Si cumple estas condiciones, el préstamo se aprueba; en caso contrario, se rechaza."
   ]
  },
  {
   "cell_type": "code",
   "execution_count": 1,
   "id": "184c3d1d",
   "metadata": {},
   "outputs": [
    {
     "name": "stdout",
     "output_type": "stream",
     "text": [
      "Préstamo rechazado 🚫\n"
     ]
    }
   ],
   "source": [
    "# Variables\n",
    "ingreso_mensual = 1900\n",
    "deuda = 0\n",
    "puntuacion_credito = 640\n",
    "\n",
    "# Operadores lógicos\n",
    "if (ingreso_mensual > 2000 or puntuacion_credito >= 650) and deuda == 0:\n",
    "    print(\"Préstamo aprobado 💰\")\n",
    "else:\n",
    "    print(\"Préstamo rechazado 🚫\")"
   ]
  },
  {
   "cell_type": "markdown",
   "id": "e2fd7af7",
   "metadata": {},
   "source": [
    "**Programa 3**: Calculadora"
   ]
  },
  {
   "cell_type": "code",
   "execution_count": 2,
   "id": "dcd003ef",
   "metadata": {},
   "outputs": [
    {
     "name": "stdout",
     "output_type": "stream",
     "text": [
      "1. suma\n",
      "2. Resta\n",
      "Resultado: 9.0\n"
     ]
    }
   ],
   "source": [
    "def calculadora():\n",
    "    print(\"1. suma\")\n",
    "    print(\"2. Resta\")\n",
    "    opcion = input(\"Elige una opcion (1/2): \")\n",
    "\n",
    "    num1 = float(input(\"primer numero: \"))\n",
    "    num2 = float (input(\"Segundo numero: \"))\n",
    "\n",
    "    if opcion == \"1\":\n",
    "        print(f\"Resultado: {num1 + num2}\")\n",
    "    elif opcion ==\"2\":\n",
    "        print(f\"Resultado: {num1 - num2}\")\n",
    "\n",
    "calculadora()"
   ]
  },
  {
   "cell_type": "markdown",
   "id": "48336b1c",
   "metadata": {},
   "source": [
    "**Programa 4**: Calculadora 2"
   ]
  },
  {
   "cell_type": "code",
   "execution_count": 3,
   "id": "eacbc473",
   "metadata": {},
   "outputs": [
    {
     "name": "stdout",
     "output_type": "stream",
     "text": [
      "1. Suma\n",
      "2. Resta\n",
      "Resultado: 1.0\n"
     ]
    }
   ],
   "source": [
    "print(\"1. Suma\")\n",
    "print(\"2. Resta\")\n",
    "opcion = input(\"Elige una opción (1/2): \")\n",
    "\n",
    "num1 = float(input(\"Primer número: \"))\n",
    "num2 = float(input(\"Segundo número: \"))\n",
    "\n",
    "if opcion == \"1\":\n",
    "    print(f\"Resultado: {num1 + num2}\")\n",
    "elif opcion == \"2\":\n",
    "        print(f\"Resultado: {num1 - num2}\")\n",
    "else:\n",
    "        print(\"Opción inválida.\")"
   ]
  },
  {
   "cell_type": "markdown",
   "id": "4df913f2",
   "metadata": {},
   "source": [
    "**Programa 5**: Una tienda ofrece un descuento del 15% bajo estas condiciones:\n",
    "\n",
    "- El cliente debe gastar más de $100 en su compra.\n",
    "- Además, debe cumplir al menos una de estas opciones:\n",
    "    - Ser miembro del programa de fidelidad o\n",
    "    - No gastar más de $200 (para evitar combinar descuentos)\n",
    "\n",
    "Si no se cumplen estas condiciones, no se aplicará ningún descuento."
   ]
  },
  {
   "cell_type": "code",
   "execution_count": 4,
   "id": "88cff4b2",
   "metadata": {},
   "outputs": [
    {
     "name": "stdout",
     "output_type": "stream",
     "text": [
      "Descuento del 15% aplicado 🎉\n"
     ]
    }
   ],
   "source": [
    "# Variables\n",
    "es_miembro = False\n",
    "total_compra = 150\n",
    "\n",
    "# Operadores lógicos y not\n",
    "if total_compra > 100 and (es_miembro == True or total_compra <= 200):\n",
    "    print(\"Descuento del 15% aplicado 🎉\")\n",
    "else:\n",
    "    print(\"Sin descuento 😢\")"
   ]
  },
  {
   "cell_type": "markdown",
   "id": "5aac9939",
   "metadata": {},
   "source": [
    "**Programa 6**: Una tienda ofrece un descuento del 15% bajo estas condiciones:\n",
    "\n",
    "- El cliente debe gastar más de $100 en su compra.\n",
    "- Además, debe cumplir al menos una de estas opciones:\n",
    "    - Ser miembro del programa de fidelidad o\n",
    "    - No gastar más de $200 (para evitar combinar descuentos)\n",
    "\n",
    "Si no se cumplen estas condiciones, no se aplicará ningún descuento."
   ]
  },
  {
   "cell_type": "code",
   "execution_count": 5,
   "id": "2e1a1e7b",
   "metadata": {},
   "outputs": [
    {
     "name": "stdout",
     "output_type": "stream",
     "text": [
      "Descuento del 15% aplicado 🎉\n"
     ]
    }
   ],
   "source": [
    "# Variables\n",
    "es_miembro = True\n",
    "total_compra = 202\n",
    "\n",
    "# Operadores lógicos y not\n",
    "if total_compra > 100 and (es_miembro == True or not total_compra > 200):\n",
    "    print(\"Descuento del 15% aplicado 🎉\")\n",
    "else:\n",
    "    print(\"Sin descuento 😢\")"
   ]
  },
  {
   "cell_type": "markdown",
   "id": "0f301877",
   "metadata": {},
   "source": [
    "**Programa 7**: Verificar si una persona puede acceder a un evento exclusivo. \n",
    "\n",
    "- Para ello, debe ser mayor de edad (18 años o más) y \n",
    "- contar con un permiso especial.\n",
    "\n",
    "Si cumple ambas condiciones, se le concederá el acceso; de lo contrario, se le denegará.\""
   ]
  },
  {
   "cell_type": "code",
   "execution_count": 6,
   "id": "703618da",
   "metadata": {},
   "outputs": [
    {
     "name": "stdout",
     "output_type": "stream",
     "text": [
      "Acceso denegado ❌\n"
     ]
    }
   ],
   "source": [
    "# Variables\n",
    "edad = 18\n",
    "tiene_permiso = False\n",
    "\n",
    "# Operadores lógicos\n",
    "if edad >= 18 and tiene_permiso == True:\n",
    "    print(\"Acceso concedido ✅\")\n",
    "else:\n",
    "    print(\"Acceso denegado ❌\")"
   ]
  }
 ],
 "metadata": {
  "kernelspec": {
   "display_name": ".venv",
   "language": "python",
   "name": "python3"
  },
  "language_info": {
   "codemirror_mode": {
    "name": "ipython",
    "version": 3
   },
   "file_extension": ".py",
   "mimetype": "text/x-python",
   "name": "python",
   "nbconvert_exporter": "python",
   "pygments_lexer": "ipython3",
   "version": "3.12.3"
  }
 },
 "nbformat": 4,
 "nbformat_minor": 5
}
