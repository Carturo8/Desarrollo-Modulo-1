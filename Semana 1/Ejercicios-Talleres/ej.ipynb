{
 "cells": [
  {
   "cell_type": "markdown",
   "id": "bab29f9b",
   "metadata": {},
   "source": [
    "### Taller Práctico (Print, Input, Tipos de Datos, Operadores — Sin Condicionales)"
   ]
  },
  {
   "cell_type": "markdown",
   "id": "9a64a5f6",
   "metadata": {},
   "source": [
    "1. Pide al usuario su nombre y edad, y muestra un mensaje que diga: \"Hola [nombre], tienes [edad] años."
   ]
  },
  {
   "cell_type": "code",
   "execution_count": null,
   "id": "75b35ff4",
   "metadata": {},
   "outputs": [],
   "source": [
    "def Nombre_Edad ():\n",
    "    nombre = input(\"¿Cuál es tu nombre? \")\n",
    "    edad = int(input(\"¿Cuántos años tienes? \"))\n",
    "    print(f\"Hola {nombre}, tienes {edad} años.\")\n",
    "\n",
    "Nombre_Edad()"
   ]
  },
  {
   "cell_type": "markdown",
   "id": "48b74cf7",
   "metadata": {},
   "source": [
    "2. Pide dos números enteros y muestra la suma de ambos."
   ]
  },
  {
   "cell_type": "code",
   "execution_count": null,
   "id": "a2bb504d",
   "metadata": {},
   "outputs": [],
   "source": [
    "def Suma_Dos_Numeros_Enteros():\n",
    "    num1 = int(input(\"Ingresa el primer número: \"))\n",
    "    num2 = int(input(\"Ingresa el segundo número: \"))\n",
    "    suma = num1 + num2\n",
    "    print(f\"La suma de {num1} y {num2} es: {suma}\")\n",
    "\n",
    "Suma_Dos_Numeros_Enteros()"
   ]
  },
  {
   "cell_type": "markdown",
   "id": "88c77210",
   "metadata": {},
   "source": [
    "3. Pide dos números decimales (float) y muestra su multiplicación."
   ]
  },
  {
   "cell_type": "code",
   "execution_count": null,
   "id": "49b2d37f",
   "metadata": {},
   "outputs": [],
   "source": [
    "def Multiplicacion_Dos_Numeros_Decimales():\n",
    "    num1 = float(input(\"Ingresa el primer número: \"))\n",
    "    num2 = float(input(\"Ingresa el segundo número: \"))\n",
    "    multiplicacion = num1 * num2\n",
    "    print(f\"La multiplicación de {num1} y {num2} es: {multiplicacion}\")\n",
    "    \n",
    "Multiplicacion_Dos_Numeros_Decimales()"
   ]
  },
  {
   "cell_type": "markdown",
   "id": "0e4514c6",
   "metadata": {},
   "source": [
    "4. Pide un número entero y muestra el doble y el triple de ese número, separados por coma."
   ]
  },
  {
   "cell_type": "code",
   "execution_count": null,
   "id": "11279789",
   "metadata": {},
   "outputs": [],
   "source": [
    "def Doble_Triple_Numero_Entero():\n",
    "    num = int(input(\"Ingresa un número entero: \"))\n",
    "    doble = num * 2\n",
    "    triple = num * 3\n",
    "    print(f\"El doble y el triple de {num} es: {doble}, {triple}, respectivamente.\")\n",
    "    \n",
    "Doble_Triple_Numero_Entero()"
   ]
  }
 ],
 "metadata": {
  "kernelspec": {
   "display_name": "Python 3",
   "language": "python",
   "name": "python3"
  },
  "language_info": {
   "name": "python",
   "version": "3.12.3"
  }
 },
 "nbformat": 4,
 "nbformat_minor": 5
}
