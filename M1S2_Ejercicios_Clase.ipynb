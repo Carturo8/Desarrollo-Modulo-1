{
 "cells": [
  {
   "cell_type": "markdown",
   "id": "5fcaa2f4",
   "metadata": {},
   "source": [
    "1. Escribe un programa que genere una lista de los 20 primeros números pares usando for y los 15 primeros números impares usando while."
   ]
  },
  {
   "cell_type": "code",
   "execution_count": 2,
   "id": "32d4cf87",
   "metadata": {},
   "outputs": [
    {
     "name": "stdout",
     "output_type": "stream",
     "text": [
      "Los 20 primeros números pares son: [2, 4, 6, 8, 10, 12, 14, 16, 18, 20, 22, 24, 26, 28, 30, 32, 34, 36, 38, 40]\n",
      "Los 15 primeros números impares son: [1, 3, 5, 7, 9, 11, 13, 15, 17, 19, 21, 23, 25, 27, 29]\n"
     ]
    }
   ],
   "source": [
    "lista_numeros_pares = []\n",
    "lista_numeros_impares = []\n",
    "\n",
    "for numeros in range(1, 41):\n",
    "    if numeros % 2 == 0:\n",
    "        lista_numeros_pares.append(numeros)\n",
    "    else:\n",
    "        while len(lista_numeros_impares) < 15:\n",
    "            lista_numeros_impares.append(numeros)\n",
    "            break\n",
    "\n",
    "print(f\"Los 20 primeros números pares son: {lista_numeros_pares}\")\n",
    "print(f\"Los 15 primeros números impares son: {lista_numeros_impares}\")"
   ]
  },
  {
   "cell_type": "markdown",
   "id": "33ca47c8",
   "metadata": {},
   "source": [
    "2. Pide al usuario un número n y calcula la suma de los primeros n números naturales usando for y luego con while."
   ]
  },
  {
   "cell_type": "code",
   "execution_count": 3,
   "id": "c2f11075",
   "metadata": {},
   "outputs": [
    {
     "name": "stdout",
     "output_type": "stream",
     "text": [
      "La suma de los primeros 5 números naturales usando for es: 15\n",
      "La suma de los primeros 5 números naturales usando while es: 15\n"
     ]
    }
   ],
   "source": [
    "n:int = int(input(\"Ingresa un número entero positivo: \"))\n",
    "suma_for:int = 0\n",
    "suma_while:int = 0\n",
    "contador:int = 0\n",
    "\n",
    "for numero in range(1, n + 1):\n",
    "    suma_for += numero\n",
    "\n",
    "while contador < n:\n",
    "    contador += 1\n",
    "    suma_while += contador\n",
    "\n",
    "print(f\"La suma de los primeros {n} números naturales usando for es: {suma_for}\")\n",
    "print(f\"La suma de los primeros {n} números naturales usando while es: {suma_while}\")"
   ]
  },
  {
   "cell_type": "markdown",
   "id": "1e0b8332",
   "metadata": {},
   "source": [
    "3. Escribe un programa que calcule el factorial de un número dado usando ambos bucles."
   ]
  },
  {
   "cell_type": "code",
   "execution_count": 4,
   "id": "8ceed00c",
   "metadata": {},
   "outputs": [
    {
     "name": "stdout",
     "output_type": "stream",
     "text": [
      "El factorial de 5 usando for es: 120\n",
      "El factorial de 5 usando while es: 120\n"
     ]
    }
   ],
   "source": [
    "n:int = int(input(\"Ingresa un número entero positivo: \"))\n",
    "factorial_for:int = 1\n",
    "factorial_while:int = 1\n",
    "contador:int = 0\n",
    "\n",
    "for numero in range(1, n + 1):\n",
    "    factorial_for *= numero\n",
    "\n",
    "while contador < n:\n",
    "    contador += 1\n",
    "    factorial_while *= contador\n",
    "\n",
    "print(f\"El factorial de {n} usando for es: {factorial_for}\")\n",
    "print(f\"El factorial de {n} usando while es: {factorial_while}\")"
   ]
  },
  {
   "cell_type": "markdown",
   "id": "1a4b953e",
   "metadata": {},
   "source": [
    "4. Vamos a imprimir el siguiente patrón usando bucles for y while:\n",
    "\n",
    "    1*<br>\n",
    "    2**<br>\n",
    "    3***<br>\n",
    "    4****"
   ]
  },
  {
   "cell_type": "code",
   "execution_count": 5,
   "id": "9f0aacf8",
   "metadata": {},
   "outputs": [
    {
     "name": "stdout",
     "output_type": "stream",
     "text": [
      "*\n",
      "**\n",
      "***\n",
      "****\n",
      "-----------------\n",
      "*\n",
      "**\n",
      "***\n",
      "****\n"
     ]
    }
   ],
   "source": [
    "contador:int = 0\n",
    "patron_for: str = \"\"\n",
    "patron_while: str = \"\"\n",
    "\n",
    "for i in range(4):\n",
    "    patron_for += \"*\"\n",
    "    print(patron_for)\n",
    "\n",
    "print(\"-----------------\")\n",
    "\n",
    "while contador < 4:\n",
    "    contador += 1\n",
    "    patron_while += \"*\"\n",
    "    print(patron_while)"
   ]
  },
  {
   "cell_type": "markdown",
   "id": "26ffd6ab",
   "metadata": {},
   "source": [
    "5. Vamos a imprimir el siguiente patrón usando bucles for y while:\n",
    "\n",
    "    1****<br>\n",
    "    2***<br>\n",
    "    3**<br>\n",
    "    4*"
   ]
  },
  {
   "cell_type": "code",
   "execution_count": 6,
   "id": "ac73f4db",
   "metadata": {},
   "outputs": [
    {
     "name": "stdout",
     "output_type": "stream",
     "text": [
      "****\n",
      "***\n",
      "**\n",
      "*\n",
      "-----------------\n",
      "****\n",
      "***\n",
      "**\n",
      "*\n",
      "\n"
     ]
    }
   ],
   "source": [
    "contador:int = 5\n",
    "\n",
    "for i in range(4, 0, -1):\n",
    "    patron_for = i * \"*\"\n",
    "    print(patron_for)\n",
    "\n",
    "print(\"-----------------\")\n",
    "\n",
    "while contador > 0:\n",
    "    contador -= 1\n",
    "    patron_while = contador * \"*\"\n",
    "    print(patron_while)"
   ]
  },
  {
   "cell_type": "markdown",
   "id": "08b595b3",
   "metadata": {},
   "source": [
    "6. Usando while, simula un cajero donde el usuario pueda:\n",
    "\n",
    "    - Ver su saldo.\n",
    "    - Depositar dinero.\n",
    "    - Retirar dinero (validando que no exceda el saldo).\n",
    "    - Salir del programa."
   ]
  },
  {
   "cell_type": "code",
   "execution_count": 14,
   "id": "247ad678",
   "metadata": {},
   "outputs": [
    {
     "name": "stdout",
     "output_type": "stream",
     "text": [
      "\n",
      "Menú principal:\n",
      "    1. Ver saldo\n",
      "    2. Depositar dinero\n",
      "    3. Retirar dinero\n",
      "    4. Salir\n",
      "\n",
      "Su saldo es: $0.0.\n",
      "\n",
      "Seleccione si desea volver al menú principal o salir: \n",
      "    1. Volver al menú principal\n",
      "    2. Salir\n",
      "\n",
      "Menú principal:\n",
      "    1. Ver saldo\n",
      "    2. Depositar dinero\n",
      "    3. Retirar dinero\n",
      "    4. Salir\n",
      "\n",
      "Se depositaron $5000000000.0 exitosamente.\n",
      "Su nuevo saldo es: $5000000000.0\n",
      "\n",
      "Seleccione si desea volver al menú principal o salir: \n",
      "    1. Volver al menú principal\n",
      "    2. Salir\n",
      "\n",
      "Menú principal:\n",
      "    1. Ver saldo\n",
      "    2. Depositar dinero\n",
      "    3. Retirar dinero\n",
      "    4. Salir\n",
      "\n",
      "No tiene suficiente dinero en la cuenta.\n",
      "\n",
      "Seleccione si desea volver al menú principal o salir: \n",
      "    1. Volver al menú principal\n",
      "    2. Salir\n",
      "\n",
      "Menú principal:\n",
      "    1. Ver saldo\n",
      "    2. Depositar dinero\n",
      "    3. Retirar dinero\n",
      "    4. Salir\n",
      "\n",
      "Se retiraron $50000.0 exitosamente.\n",
      "Su nuevo saldo es: $4999950000.0\n",
      "\n",
      "Seleccione si desea volver al menú principal o salir: \n",
      "    1. Volver al menú principal\n",
      "    2. Salir\n",
      "\n",
      "Menú principal:\n",
      "    1. Ver saldo\n",
      "    2. Depositar dinero\n",
      "    3. Retirar dinero\n",
      "    4. Salir\n",
      "\n",
      "Gracias por usar el cajero automático.\n"
     ]
    }
   ],
   "source": [
    "saldo:float = 0.0\n",
    "deposito:float = 0.0\n",
    "retiro:float = 0.0\n",
    "condicion = True\n",
    "\n",
    "def menu_de_opciones_1():\n",
    "    \"\"\"\n",
    "    Muestra el menú de opciones al usuario y devuelve la opción seleccionada.\n",
    "    \"\"\"\n",
    "    print(f\"\"\"\\nMenú principal:\n",
    "    1. Ver saldo\n",
    "    2. Depositar dinero\n",
    "    3. Retirar dinero\n",
    "    4. Salir\"\"\")\n",
    "    opcion_seleccionada = input(\"\\nSeleccione la opción deseada: \")\n",
    "    return opcion_seleccionada\n",
    "\n",
    "def menu_de_opciones_2():\n",
    "    \"\"\"\n",
    "    Muestra el menú de opciones después de realizar una operación y devuelve la opción seleccionada.\n",
    "    \"\"\"\n",
    "    print(\"\"\"\\nSeleccione si desea volver al menú principal o salir: \n",
    "    1. Volver al menú principal\n",
    "    2. Salir\"\"\")\n",
    "    opcion_seleccionada = input(\"\\nSeleccione la opción deseada: \")\n",
    "    if opcion_seleccionada == \"1\":\n",
    "        condicion = True\n",
    "    elif opcion_seleccionada == \"2\":\n",
    "        condicion = False\n",
    "        print(\"\\nGracias por usar el cajero automático.\")\n",
    "    return condicion\n",
    "\n",
    "while condicion:\n",
    "    menu_de_opciones = menu_de_opciones_1()\n",
    "    if menu_de_opciones == \"1\":\n",
    "        print(f\"\\nSu saldo es: ${saldo}.\")\n",
    "        condicion = menu_de_opciones_2()\n",
    "    elif menu_de_opciones == \"2\":\n",
    "        deposito = round(float(input(\"\\nIngresa el valor del deposito: \")), 2)\n",
    "        saldo += deposito\n",
    "        print(f\"\\nSe depositaron ${deposito} exitosamente.\")\n",
    "        print(f\"Su nuevo saldo es: ${saldo}\")\n",
    "        condicion = menu_de_opciones_2()\n",
    "    elif menu_de_opciones == \"3\":\n",
    "        retiro = round(float(input(\"\\nIngresa el valor del retiro: \")), 2)\n",
    "        if retiro > saldo:\n",
    "            print(\"\\nNo tiene suficiente dinero en la cuenta.\")\n",
    "            condicion = menu_de_opciones_2()\n",
    "        else:\n",
    "            saldo -= retiro\n",
    "            print(f\"\\nSe retiraron ${retiro} exitosamente.\")\n",
    "            print(f\"Su nuevo saldo es: ${saldo}\")\n",
    "            condicion = menu_de_opciones_2()\n",
    "    else:\n",
    "        condicion = False\n",
    "        print(\"\\nGracias por usar el cajero automático.\")"
   ]
  }
 ],
 "metadata": {
  "kernelspec": {
   "display_name": ".venv",
   "language": "python",
   "name": "python3"
  },
  "language_info": {
   "codemirror_mode": {
    "name": "ipython",
    "version": 3
   },
   "file_extension": ".py",
   "mimetype": "text/x-python",
   "name": "python",
   "nbconvert_exporter": "python",
   "pygments_lexer": "ipython3",
   "version": "3.12.3"
  }
 },
 "nbformat": 4,
 "nbformat_minor": 5
}
